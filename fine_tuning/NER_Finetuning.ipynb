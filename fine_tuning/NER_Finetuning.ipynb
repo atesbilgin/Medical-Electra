{
 "cells": [
  {
   "cell_type": "code",
   "execution_count": 19,
   "metadata": {
    "colab": {
     "base_uri": "https://localhost:8080/"
    },
    "id": "QG6FpBB2At9H",
    "outputId": "71b65c44-8cae-4b7c-9e51-777a364a8f96"
   },
   "outputs": [
    {
     "name": "stdout",
     "output_type": "stream",
     "text": [
      "fatal: destination path 'transformers' already exists and is not an empty directory.\r\n"
     ]
    }
   ],
   "source": [
    "!git clone https://github.com/huggingface/transformers.git"
   ]
  },
  {
   "cell_type": "code",
   "execution_count": 20,
   "metadata": {
    "colab": {
     "base_uri": "https://localhost:8080/"
    },
    "id": "VLVW0q-7BHYd",
    "outputId": "8014eeff-494d-41bb-a6ba-f1c3973680bb"
   },
   "outputs": [
    {
     "name": "stdout",
     "output_type": "stream",
     "text": [
      "/home/ociftci/Untitled Folder/transformers\n"
     ]
    }
   ],
   "source": [
    "%cd transformers"
   ]
  },
  {
   "cell_type": "code",
   "execution_count": 21,
   "metadata": {
    "colab": {
     "base_uri": "https://localhost:8080/"
    },
    "id": "XuGqzx9PDTIA",
    "outputId": "67c9389d-775b-4d3a-fc4f-2ef27d7647f5"
   },
   "outputs": [
    {
     "name": "stdout",
     "output_type": "stream",
     "text": [
      "/home/ociftci/Untitled Folder/transformers\r\n"
     ]
    }
   ],
   "source": [
    "!pwd"
   ]
  },
  {
   "cell_type": "code",
   "execution_count": 22,
   "metadata": {
    "colab": {
     "base_uri": "https://localhost:8080/"
    },
    "id": "uECRoPc_B6zw",
    "outputId": "27108f5f-f29c-46ab-d35a-09f58e727c68"
   },
   "outputs": [
    {
     "name": "stdout",
     "output_type": "stream",
     "text": [
      "HEAD is now at 52f44dd6 change TokenClassificationTask class methods to static methods (#7902)\r\n"
     ]
    }
   ],
   "source": [
    "!git reset --hard 52f44dd"
   ]
  },
  {
   "cell_type": "code",
   "execution_count": 23,
   "metadata": {
    "id": "-g7Q9kjFfGle"
   },
   "outputs": [],
   "source": [
    "!cp ./examples/token-classification/run_ner.py ../"
   ]
  },
  {
   "cell_type": "code",
   "execution_count": 24,
   "metadata": {
    "colab": {
     "base_uri": "https://localhost:8080/"
    },
    "id": "TBfpj-pAwmWH",
    "outputId": "3ed21c3b-29ac-4556-a497-c307f7f0be8a"
   },
   "outputs": [
    {
     "name": "stdout",
     "output_type": "stream",
     "text": [
      "/home/ociftci/Untitled Folder\n"
     ]
    }
   ],
   "source": [
    "%cd .."
   ]
  },
  {
   "cell_type": "code",
   "execution_count": 25,
   "metadata": {
    "colab": {
     "base_uri": "https://localhost:8080/",
     "height": 1000
    },
    "id": "-NrzMCAdjZMS",
    "outputId": "a4f66e24-fbda-4999-bad1-df3828d37592"
   },
   "outputs": [
    {
     "name": "stdout",
     "output_type": "stream",
     "text": [
      "--2020-11-13 11:54:01--  https://raw.githubusercontent.com/huggingface/transformers/master/examples/token-classification/utils_ner.py\n",
      "Resolving raw.githubusercontent.com (raw.githubusercontent.com)... 151.101.240.133\n",
      "Connecting to raw.githubusercontent.com (raw.githubusercontent.com)|151.101.240.133|:443... connected.\n",
      "HTTP request sent, awaiting response... 200 OK\n",
      "Length: 15657 (15K) [text/plain]\n",
      "Saving to: ‘utils_ner.py.3’\n",
      "\n",
      "utils_ner.py.3      100%[===================>]  15,29K  --.-KB/s    in 0,001s  \n",
      "\n",
      "2020-11-13 11:54:01 (20,1 MB/s) - ‘utils_ner.py.3’ saved [15657/15657]\n",
      "\n",
      "--2020-11-13 11:54:01--  https://raw.githubusercontent.com/huggingface/transformers/master/examples/token-classification/tasks.py\n",
      "Resolving raw.githubusercontent.com (raw.githubusercontent.com)... 151.101.240.133\n",
      "Connecting to raw.githubusercontent.com (raw.githubusercontent.com)|151.101.240.133|:443... connected.\n",
      "HTTP request sent, awaiting response... 200 OK\n",
      "Length: 5509 (5,4K) [text/plain]\n",
      "Saving to: ‘tasks.py.3’\n",
      "\n",
      "tasks.py.3          100%[===================>]   5,38K  --.-KB/s    in 0s      \n",
      "\n",
      "2020-11-13 11:54:01 (33,0 MB/s) - ‘tasks.py.3’ saved [5509/5509]\n",
      "\n",
      "fatal: destination path 'transformers' already exists and is not an empty directory.\n",
      "/home/ociftci/Untitled Folder/transformers\n",
      "Processing /home/ociftci/Untitled Folder/transformers\n",
      "  Installing build dependencies ... \u001b[?25ldone\n",
      "\u001b[?25h  Getting requirements to build wheel ... \u001b[?25ldone\n",
      "\u001b[?25h    Preparing wheel metadata ... \u001b[?25ldone\n",
      "\u001b[?25hRequirement already satisfied: numpy in /home/ociftci/anaconda3/envs/ner_env/lib/python3.6/site-packages (from transformers==3.4.0) (1.19.4)\n",
      "Requirement already satisfied: sentencepiece==0.1.91 in /home/ociftci/anaconda3/envs/ner_env/lib/python3.6/site-packages (from transformers==3.4.0) (0.1.91)\n",
      "Requirement already satisfied: tokenizers==0.9.2 in /home/ociftci/anaconda3/envs/ner_env/lib/python3.6/site-packages (from transformers==3.4.0) (0.9.2)\n",
      "Requirement already satisfied: regex!=2019.12.17 in /home/ociftci/anaconda3/envs/ner_env/lib/python3.6/site-packages (from transformers==3.4.0) (2020.11.11)\n",
      "Requirement already satisfied: protobuf in /home/ociftci/anaconda3/envs/ner_env/lib/python3.6/site-packages (from transformers==3.4.0) (3.13.0)\n",
      "Requirement already satisfied: requests in /home/ociftci/anaconda3/envs/ner_env/lib/python3.6/site-packages (from transformers==3.4.0) (2.25.0)\n",
      "Requirement already satisfied: tqdm>=4.27 in /home/ociftci/anaconda3/envs/ner_env/lib/python3.6/site-packages (from transformers==3.4.0) (4.51.0)\n",
      "Requirement already satisfied: dataclasses; python_version < \"3.7\" in /home/ociftci/anaconda3/envs/ner_env/lib/python3.6/site-packages (from transformers==3.4.0) (0.7)\n",
      "Requirement already satisfied: filelock in /home/ociftci/anaconda3/envs/ner_env/lib/python3.6/site-packages (from transformers==3.4.0) (3.0.12)\n",
      "Requirement already satisfied: packaging in /home/ociftci/anaconda3/envs/ner_env/lib/python3.6/site-packages (from transformers==3.4.0) (20.4)\n",
      "Requirement already satisfied: sacremoses in /home/ociftci/anaconda3/envs/ner_env/lib/python3.6/site-packages (from transformers==3.4.0) (0.0.43)\n",
      "Requirement already satisfied: six>=1.9 in /home/ociftci/anaconda3/envs/ner_env/lib/python3.6/site-packages (from protobuf->transformers==3.4.0) (1.15.0)\n",
      "Requirement already satisfied: setuptools in /home/ociftci/anaconda3/envs/ner_env/lib/python3.6/site-packages (from protobuf->transformers==3.4.0) (50.3.1.post20201107)\n",
      "Requirement already satisfied: urllib3<1.27,>=1.21.1 in /home/ociftci/anaconda3/envs/ner_env/lib/python3.6/site-packages (from requests->transformers==3.4.0) (1.25.11)\n",
      "Requirement already satisfied: idna<3,>=2.5 in /home/ociftci/anaconda3/envs/ner_env/lib/python3.6/site-packages (from requests->transformers==3.4.0) (2.10)\n",
      "Requirement already satisfied: certifi>=2017.4.17 in /home/ociftci/anaconda3/envs/ner_env/lib/python3.6/site-packages (from requests->transformers==3.4.0) (2020.11.8)\n",
      "Requirement already satisfied: chardet<4,>=3.0.2 in /home/ociftci/anaconda3/envs/ner_env/lib/python3.6/site-packages (from requests->transformers==3.4.0) (3.0.4)\n",
      "Requirement already satisfied: pyparsing>=2.0.2 in /home/ociftci/anaconda3/envs/ner_env/lib/python3.6/site-packages (from packaging->transformers==3.4.0) (2.4.7)\n",
      "Requirement already satisfied: joblib in /home/ociftci/anaconda3/envs/ner_env/lib/python3.6/site-packages (from sacremoses->transformers==3.4.0) (0.17.0)\n",
      "Requirement already satisfied: click in /home/ociftci/anaconda3/envs/ner_env/lib/python3.6/site-packages (from sacremoses->transformers==3.4.0) (7.1.2)\n",
      "Building wheels for collected packages: transformers\n",
      "  Building wheel for transformers (PEP 517) ... \u001b[?25ldone\n",
      "\u001b[?25h  Created wheel for transformers: filename=transformers-3.4.0-py3-none-any.whl size=1293574 sha256=e865e6763cefa9f1f286d2f79378bd8aefee0eda20f71b6df0737f1a232ed0d9\n",
      "  Stored in directory: /tmp/pip-ephem-wheel-cache-3imfab10/wheels/a0/07/9c/9e03b1038c15284ad824ae7fe624bb042b18d888f95ac4b12a\n",
      "Successfully built transformers\n",
      "Installing collected packages: transformers\n",
      "  Attempting uninstall: transformers\n",
      "    Found existing installation: transformers 3.4.0\n",
      "    Uninstalling transformers-3.4.0:\n",
      "      Successfully uninstalled transformers-3.4.0\n",
      "Successfully installed transformers-3.4.0\n",
      "Requirement already satisfied: tensorboard in /home/ociftci/anaconda3/envs/ner_env/lib/python3.6/site-packages (from -r ./examples/requirements.txt (line 1)) (2.4.0)\n",
      "Requirement already satisfied: scikit-learn in /home/ociftci/anaconda3/envs/ner_env/lib/python3.6/site-packages (from -r ./examples/requirements.txt (line 2)) (0.23.2)\n",
      "Requirement already satisfied: seqeval in /home/ociftci/anaconda3/envs/ner_env/lib/python3.6/site-packages (from -r ./examples/requirements.txt (line 3)) (1.2.2)\n",
      "Requirement already satisfied: psutil in /home/ociftci/anaconda3/envs/ner_env/lib/python3.6/site-packages (from -r ./examples/requirements.txt (line 4)) (5.7.3)\n",
      "Requirement already satisfied: sacrebleu in /home/ociftci/anaconda3/envs/ner_env/lib/python3.6/site-packages (from -r ./examples/requirements.txt (line 5)) (1.4.14)\n",
      "Requirement already satisfied: rouge-score in /home/ociftci/anaconda3/envs/ner_env/lib/python3.6/site-packages (from -r ./examples/requirements.txt (line 6)) (0.0.4)\n",
      "Requirement already satisfied: tensorflow_datasets in /home/ociftci/anaconda3/envs/ner_env/lib/python3.6/site-packages (from -r ./examples/requirements.txt (line 7)) (4.1.0)\n",
      "Requirement already satisfied: pytorch-lightning==1.0.4 in /home/ociftci/anaconda3/envs/ner_env/lib/python3.6/site-packages (from -r ./examples/requirements.txt (line 8)) (1.0.4)\n",
      "Requirement already satisfied: matplotlib in /home/ociftci/anaconda3/envs/ner_env/lib/python3.6/site-packages (from -r ./examples/requirements.txt (line 9)) (3.3.3)\n",
      "Requirement already satisfied: git-python==1.0.3 in /home/ociftci/anaconda3/envs/ner_env/lib/python3.6/site-packages (from -r ./examples/requirements.txt (line 10)) (1.0.3)\n",
      "Requirement already satisfied: faiss-cpu in /home/ociftci/anaconda3/envs/ner_env/lib/python3.6/site-packages (from -r ./examples/requirements.txt (line 11)) (1.6.4.post2)\n",
      "Requirement already satisfied: streamlit in /home/ociftci/anaconda3/envs/ner_env/lib/python3.6/site-packages (from -r ./examples/requirements.txt (line 12)) (0.71.0)\n",
      "Requirement already satisfied: elasticsearch in /home/ociftci/anaconda3/envs/ner_env/lib/python3.6/site-packages (from -r ./examples/requirements.txt (line 13)) (7.10.0)\n",
      "Requirement already satisfied: nltk in /home/ociftci/anaconda3/envs/ner_env/lib/python3.6/site-packages (from -r ./examples/requirements.txt (line 14)) (3.5)\n",
      "Requirement already satisfied: pandas in /home/ociftci/anaconda3/envs/ner_env/lib/python3.6/site-packages (from -r ./examples/requirements.txt (line 15)) (1.1.4)\n",
      "Requirement already satisfied: datasets in /home/ociftci/anaconda3/envs/ner_env/lib/python3.6/site-packages (from -r ./examples/requirements.txt (line 16)) (1.1.2)\n",
      "Requirement already satisfied: fire in /home/ociftci/anaconda3/envs/ner_env/lib/python3.6/site-packages (from -r ./examples/requirements.txt (line 17)) (0.3.1)\n",
      "Requirement already satisfied: pytest in /home/ociftci/anaconda3/envs/ner_env/lib/python3.6/site-packages (from -r ./examples/requirements.txt (line 18)) (6.1.2)\n",
      "Requirement already satisfied: conllu in /home/ociftci/anaconda3/envs/ner_env/lib/python3.6/site-packages (from -r ./examples/requirements.txt (line 19)) (4.2.1)\n",
      "Requirement already satisfied: sentencepiece!=0.1.92 in /home/ociftci/anaconda3/envs/ner_env/lib/python3.6/site-packages (from -r ./examples/requirements.txt (line 20)) (0.1.91)\n",
      "Requirement already satisfied: werkzeug>=0.11.15 in /home/ociftci/anaconda3/envs/ner_env/lib/python3.6/site-packages (from tensorboard->-r ./examples/requirements.txt (line 1)) (1.0.1)\n",
      "Requirement already satisfied: google-auth<2,>=1.6.3 in /home/ociftci/anaconda3/envs/ner_env/lib/python3.6/site-packages (from tensorboard->-r ./examples/requirements.txt (line 1)) (1.23.0)\n",
      "Requirement already satisfied: setuptools>=41.0.0 in /home/ociftci/anaconda3/envs/ner_env/lib/python3.6/site-packages (from tensorboard->-r ./examples/requirements.txt (line 1)) (50.3.1.post20201107)\n",
      "Requirement already satisfied: protobuf>=3.6.0 in /home/ociftci/anaconda3/envs/ner_env/lib/python3.6/site-packages (from tensorboard->-r ./examples/requirements.txt (line 1)) (3.13.0)\n",
      "Requirement already satisfied: six>=1.10.0 in /home/ociftci/anaconda3/envs/ner_env/lib/python3.6/site-packages (from tensorboard->-r ./examples/requirements.txt (line 1)) (1.15.0)\n",
      "Requirement already satisfied: google-auth-oauthlib<0.5,>=0.4.1 in /home/ociftci/anaconda3/envs/ner_env/lib/python3.6/site-packages (from tensorboard->-r ./examples/requirements.txt (line 1)) (0.4.2)\n",
      "Requirement already satisfied: absl-py>=0.4 in /home/ociftci/anaconda3/envs/ner_env/lib/python3.6/site-packages (from tensorboard->-r ./examples/requirements.txt (line 1)) (0.11.0)\n",
      "Requirement already satisfied: markdown>=2.6.8 in /home/ociftci/anaconda3/envs/ner_env/lib/python3.6/site-packages (from tensorboard->-r ./examples/requirements.txt (line 1)) (3.3.3)\n",
      "Requirement already satisfied: tensorboard-plugin-wit>=1.6.0 in /home/ociftci/anaconda3/envs/ner_env/lib/python3.6/site-packages (from tensorboard->-r ./examples/requirements.txt (line 1)) (1.7.0)\n",
      "Requirement already satisfied: wheel>=0.26; python_version >= \"3\" in /home/ociftci/anaconda3/envs/ner_env/lib/python3.6/site-packages (from tensorboard->-r ./examples/requirements.txt (line 1)) (0.35.1)\n",
      "Requirement already satisfied: numpy>=1.12.0 in /home/ociftci/anaconda3/envs/ner_env/lib/python3.6/site-packages (from tensorboard->-r ./examples/requirements.txt (line 1)) (1.19.4)\n",
      "Requirement already satisfied: grpcio>=1.24.3 in /home/ociftci/anaconda3/envs/ner_env/lib/python3.6/site-packages (from tensorboard->-r ./examples/requirements.txt (line 1)) (1.33.2)\n",
      "Requirement already satisfied: requests<3,>=2.21.0 in /home/ociftci/anaconda3/envs/ner_env/lib/python3.6/site-packages (from tensorboard->-r ./examples/requirements.txt (line 1)) (2.25.0)\n",
      "Requirement already satisfied: joblib>=0.11 in /home/ociftci/anaconda3/envs/ner_env/lib/python3.6/site-packages (from scikit-learn->-r ./examples/requirements.txt (line 2)) (0.17.0)\n",
      "Requirement already satisfied: threadpoolctl>=2.0.0 in /home/ociftci/anaconda3/envs/ner_env/lib/python3.6/site-packages (from scikit-learn->-r ./examples/requirements.txt (line 2)) (2.1.0)\n",
      "Requirement already satisfied: scipy>=0.19.1 in /home/ociftci/anaconda3/envs/ner_env/lib/python3.6/site-packages (from scikit-learn->-r ./examples/requirements.txt (line 2)) (1.5.4)\n",
      "Requirement already satisfied: portalocker in /home/ociftci/anaconda3/envs/ner_env/lib/python3.6/site-packages (from sacrebleu->-r ./examples/requirements.txt (line 5)) (2.0.0)\n",
      "Requirement already satisfied: termcolor in /home/ociftci/anaconda3/envs/ner_env/lib/python3.6/site-packages (from tensorflow_datasets->-r ./examples/requirements.txt (line 7)) (1.1.0)\n",
      "Requirement already satisfied: typing-extensions; python_version < \"3.8\" in /home/ociftci/anaconda3/envs/ner_env/lib/python3.6/site-packages (from tensorflow_datasets->-r ./examples/requirements.txt (line 7)) (3.7.4.3)\n",
      "Requirement already satisfied: future in /home/ociftci/anaconda3/envs/ner_env/lib/python3.6/site-packages (from tensorflow_datasets->-r ./examples/requirements.txt (line 7)) (0.18.2)\n",
      "Requirement already satisfied: tensorflow-metadata in /home/ociftci/anaconda3/envs/ner_env/lib/python3.6/site-packages (from tensorflow_datasets->-r ./examples/requirements.txt (line 7)) (0.25.0)\n",
      "Requirement already satisfied: dataclasses; python_version < \"3.7\" in /home/ociftci/anaconda3/envs/ner_env/lib/python3.6/site-packages (from tensorflow_datasets->-r ./examples/requirements.txt (line 7)) (0.7)\n",
      "Requirement already satisfied: attrs>=18.1.0 in /home/ociftci/anaconda3/envs/ner_env/lib/python3.6/site-packages (from tensorflow_datasets->-r ./examples/requirements.txt (line 7)) (20.3.0)\n",
      "Requirement already satisfied: importlib-resources; python_version < \"3.9\" in /home/ociftci/anaconda3/envs/ner_env/lib/python3.6/site-packages (from tensorflow_datasets->-r ./examples/requirements.txt (line 7)) (3.3.0)\n",
      "Requirement already satisfied: dill in /home/ociftci/anaconda3/envs/ner_env/lib/python3.6/site-packages (from tensorflow_datasets->-r ./examples/requirements.txt (line 7)) (0.3.3)\n",
      "Requirement already satisfied: tqdm in /home/ociftci/anaconda3/envs/ner_env/lib/python3.6/site-packages (from tensorflow_datasets->-r ./examples/requirements.txt (line 7)) (4.51.0)\n",
      "Requirement already satisfied: promise in /home/ociftci/anaconda3/envs/ner_env/lib/python3.6/site-packages (from tensorflow_datasets->-r ./examples/requirements.txt (line 7)) (2.3)\n",
      "Requirement already satisfied: PyYAML>=5.1 in /home/ociftci/anaconda3/envs/ner_env/lib/python3.6/site-packages (from pytorch-lightning==1.0.4->-r ./examples/requirements.txt (line 8)) (5.3.1)\n",
      "Requirement already satisfied: torch>=1.3 in /home/ociftci/anaconda3/envs/ner_env/lib/python3.6/site-packages (from pytorch-lightning==1.0.4->-r ./examples/requirements.txt (line 8)) (1.7.0+cu101)\n",
      "Requirement already satisfied: fsspec>=0.8.0 in /home/ociftci/anaconda3/envs/ner_env/lib/python3.6/site-packages (from pytorch-lightning==1.0.4->-r ./examples/requirements.txt (line 8)) (0.8.4)\n",
      "Requirement already satisfied: pyparsing!=2.0.4,!=2.1.2,!=2.1.6,>=2.0.3 in /home/ociftci/anaconda3/envs/ner_env/lib/python3.6/site-packages (from matplotlib->-r ./examples/requirements.txt (line 9)) (2.4.7)\n",
      "Requirement already satisfied: pillow>=6.2.0 in /home/ociftci/anaconda3/envs/ner_env/lib/python3.6/site-packages (from matplotlib->-r ./examples/requirements.txt (line 9)) (8.0.1)\n",
      "Requirement already satisfied: cycler>=0.10 in /home/ociftci/anaconda3/envs/ner_env/lib/python3.6/site-packages (from matplotlib->-r ./examples/requirements.txt (line 9)) (0.10.0)\n",
      "Requirement already satisfied: kiwisolver>=1.0.1 in /home/ociftci/anaconda3/envs/ner_env/lib/python3.6/site-packages (from matplotlib->-r ./examples/requirements.txt (line 9)) (1.3.1)\n",
      "Requirement already satisfied: python-dateutil>=2.1 in /home/ociftci/anaconda3/envs/ner_env/lib/python3.6/site-packages (from matplotlib->-r ./examples/requirements.txt (line 9)) (2.8.1)\n",
      "Requirement already satisfied: gitpython in /home/ociftci/anaconda3/envs/ner_env/lib/python3.6/site-packages (from git-python==1.0.3->-r ./examples/requirements.txt (line 10)) (3.1.11)\n",
      "Requirement already satisfied: packaging in /home/ociftci/anaconda3/envs/ner_env/lib/python3.6/site-packages (from streamlit->-r ./examples/requirements.txt (line 12)) (20.4)\n",
      "Requirement already satisfied: blinker in /home/ociftci/anaconda3/envs/ner_env/lib/python3.6/site-packages (from streamlit->-r ./examples/requirements.txt (line 12)) (1.4)\n",
      "Requirement already satisfied: toml in /home/ociftci/anaconda3/envs/ner_env/lib/python3.6/site-packages (from streamlit->-r ./examples/requirements.txt (line 12)) (0.10.2)\n",
      "Requirement already satisfied: watchdog in /home/ociftci/anaconda3/envs/ner_env/lib/python3.6/site-packages (from streamlit->-r ./examples/requirements.txt (line 12)) (0.10.3)\n",
      "Requirement already satisfied: enum-compat in /home/ociftci/anaconda3/envs/ner_env/lib/python3.6/site-packages (from streamlit->-r ./examples/requirements.txt (line 12)) (0.0.3)\n",
      "Requirement already satisfied: pyarrow in /home/ociftci/anaconda3/envs/ner_env/lib/python3.6/site-packages (from streamlit->-r ./examples/requirements.txt (line 12)) (2.0.0)\n",
      "Requirement already satisfied: botocore>=1.13.44 in /home/ociftci/anaconda3/envs/ner_env/lib/python3.6/site-packages (from streamlit->-r ./examples/requirements.txt (line 12)) (1.19.16)\n",
      "Requirement already satisfied: altair>=3.2.0 in /home/ociftci/anaconda3/envs/ner_env/lib/python3.6/site-packages (from streamlit->-r ./examples/requirements.txt (line 12)) (4.1.0)\n",
      "Requirement already satisfied: cachetools>=4.0 in /home/ociftci/anaconda3/envs/ner_env/lib/python3.6/site-packages (from streamlit->-r ./examples/requirements.txt (line 12)) (4.1.1)\n",
      "Requirement already satisfied: validators in /home/ociftci/anaconda3/envs/ner_env/lib/python3.6/site-packages (from streamlit->-r ./examples/requirements.txt (line 12)) (0.18.1)\n",
      "Requirement already satisfied: pydeck>=0.1.dev5 in /home/ociftci/anaconda3/envs/ner_env/lib/python3.6/site-packages (from streamlit->-r ./examples/requirements.txt (line 12)) (0.5.0)\n",
      "Requirement already satisfied: base58 in /home/ociftci/anaconda3/envs/ner_env/lib/python3.6/site-packages (from streamlit->-r ./examples/requirements.txt (line 12)) (2.0.1)\n",
      "Requirement already satisfied: boto3 in /home/ociftci/anaconda3/envs/ner_env/lib/python3.6/site-packages (from streamlit->-r ./examples/requirements.txt (line 12)) (1.16.16)\n",
      "Requirement already satisfied: tornado>=5.0 in /home/ociftci/anaconda3/envs/ner_env/lib/python3.6/site-packages (from streamlit->-r ./examples/requirements.txt (line 12)) (6.1)\n",
      "Requirement already satisfied: tzlocal in /home/ociftci/anaconda3/envs/ner_env/lib/python3.6/site-packages (from streamlit->-r ./examples/requirements.txt (line 12)) (2.1)\n",
      "Requirement already satisfied: astor in /home/ociftci/anaconda3/envs/ner_env/lib/python3.6/site-packages (from streamlit->-r ./examples/requirements.txt (line 12)) (0.8.1)\n",
      "Requirement already satisfied: click>=7.0 in /home/ociftci/anaconda3/envs/ner_env/lib/python3.6/site-packages (from streamlit->-r ./examples/requirements.txt (line 12)) (7.1.2)\n",
      "Requirement already satisfied: urllib3<2,>=1.21.1 in /home/ociftci/anaconda3/envs/ner_env/lib/python3.6/site-packages (from elasticsearch->-r ./examples/requirements.txt (line 13)) (1.25.11)\n",
      "Requirement already satisfied: certifi in /home/ociftci/anaconda3/envs/ner_env/lib/python3.6/site-packages (from elasticsearch->-r ./examples/requirements.txt (line 13)) (2020.11.8)\n",
      "Requirement already satisfied: regex in /home/ociftci/anaconda3/envs/ner_env/lib/python3.6/site-packages (from nltk->-r ./examples/requirements.txt (line 14)) (2020.11.11)\n",
      "Requirement already satisfied: pytz>=2017.2 in /home/ociftci/anaconda3/envs/ner_env/lib/python3.6/site-packages (from pandas->-r ./examples/requirements.txt (line 15)) (2020.4)\n",
      "Requirement already satisfied: xxhash in /home/ociftci/anaconda3/envs/ner_env/lib/python3.6/site-packages (from datasets->-r ./examples/requirements.txt (line 16)) (2.0.0)\n",
      "Requirement already satisfied: multiprocess in /home/ociftci/anaconda3/envs/ner_env/lib/python3.6/site-packages (from datasets->-r ./examples/requirements.txt (line 16)) (0.70.11.1)\n",
      "Requirement already satisfied: filelock in /home/ociftci/anaconda3/envs/ner_env/lib/python3.6/site-packages (from datasets->-r ./examples/requirements.txt (line 16)) (3.0.12)\n",
      "Requirement already satisfied: importlib-metadata>=0.12; python_version < \"3.8\" in /home/ociftci/anaconda3/envs/ner_env/lib/python3.6/site-packages (from pytest->-r ./examples/requirements.txt (line 18)) (2.0.0)\n",
      "Requirement already satisfied: pluggy<1.0,>=0.12 in /home/ociftci/anaconda3/envs/ner_env/lib/python3.6/site-packages (from pytest->-r ./examples/requirements.txt (line 18)) (0.13.1)\n",
      "Requirement already satisfied: iniconfig in /home/ociftci/anaconda3/envs/ner_env/lib/python3.6/site-packages (from pytest->-r ./examples/requirements.txt (line 18)) (1.1.1)\n",
      "Requirement already satisfied: py>=1.8.2 in /home/ociftci/anaconda3/envs/ner_env/lib/python3.6/site-packages (from pytest->-r ./examples/requirements.txt (line 18)) (1.9.0)\n",
      "Requirement already satisfied: pyasn1-modules>=0.2.1 in /home/ociftci/anaconda3/envs/ner_env/lib/python3.6/site-packages (from google-auth<2,>=1.6.3->tensorboard->-r ./examples/requirements.txt (line 1)) (0.2.8)\n",
      "Requirement already satisfied: rsa<5,>=3.1.4; python_version >= \"3.5\" in /home/ociftci/anaconda3/envs/ner_env/lib/python3.6/site-packages (from google-auth<2,>=1.6.3->tensorboard->-r ./examples/requirements.txt (line 1)) (4.6)\n",
      "Requirement already satisfied: requests-oauthlib>=0.7.0 in /home/ociftci/anaconda3/envs/ner_env/lib/python3.6/site-packages (from google-auth-oauthlib<0.5,>=0.4.1->tensorboard->-r ./examples/requirements.txt (line 1)) (1.3.0)\n",
      "Requirement already satisfied: chardet<4,>=3.0.2 in /home/ociftci/anaconda3/envs/ner_env/lib/python3.6/site-packages (from requests<3,>=2.21.0->tensorboard->-r ./examples/requirements.txt (line 1)) (3.0.4)\n",
      "Requirement already satisfied: idna<3,>=2.5 in /home/ociftci/anaconda3/envs/ner_env/lib/python3.6/site-packages (from requests<3,>=2.21.0->tensorboard->-r ./examples/requirements.txt (line 1)) (2.10)\n",
      "Requirement already satisfied: googleapis-common-protos<2,>=1.52.0 in /home/ociftci/anaconda3/envs/ner_env/lib/python3.6/site-packages (from tensorflow-metadata->tensorflow_datasets->-r ./examples/requirements.txt (line 7)) (1.52.0)\n",
      "Requirement already satisfied: zipp>=0.4; python_version < \"3.8\" in /home/ociftci/anaconda3/envs/ner_env/lib/python3.6/site-packages (from importlib-resources; python_version < \"3.9\"->tensorflow_datasets->-r ./examples/requirements.txt (line 7)) (3.4.0)\n",
      "Requirement already satisfied: gitdb<5,>=4.0.1 in /home/ociftci/anaconda3/envs/ner_env/lib/python3.6/site-packages (from gitpython->git-python==1.0.3->-r ./examples/requirements.txt (line 10)) (4.0.5)\n",
      "Requirement already satisfied: pathtools>=0.1.1 in /home/ociftci/anaconda3/envs/ner_env/lib/python3.6/site-packages (from watchdog->streamlit->-r ./examples/requirements.txt (line 12)) (0.1.2)\n",
      "Requirement already satisfied: jmespath<1.0.0,>=0.7.1 in /home/ociftci/anaconda3/envs/ner_env/lib/python3.6/site-packages (from botocore>=1.13.44->streamlit->-r ./examples/requirements.txt (line 12)) (0.10.0)\n",
      "Requirement already satisfied: jinja2 in /home/ociftci/anaconda3/envs/ner_env/lib/python3.6/site-packages (from altair>=3.2.0->streamlit->-r ./examples/requirements.txt (line 12)) (2.11.2)\n",
      "Requirement already satisfied: toolz in /home/ociftci/anaconda3/envs/ner_env/lib/python3.6/site-packages (from altair>=3.2.0->streamlit->-r ./examples/requirements.txt (line 12)) (0.11.1)\n",
      "Requirement already satisfied: jsonschema in /home/ociftci/anaconda3/envs/ner_env/lib/python3.6/site-packages (from altair>=3.2.0->streamlit->-r ./examples/requirements.txt (line 12)) (3.2.0)\n",
      "Requirement already satisfied: entrypoints in /home/ociftci/anaconda3/envs/ner_env/lib/python3.6/site-packages (from altair>=3.2.0->streamlit->-r ./examples/requirements.txt (line 12)) (0.3)\n",
      "Requirement already satisfied: decorator>=3.4.0 in /home/ociftci/anaconda3/envs/ner_env/lib/python3.6/site-packages (from validators->streamlit->-r ./examples/requirements.txt (line 12)) (4.4.2)\n",
      "Requirement already satisfied: traitlets>=4.3.2 in /home/ociftci/anaconda3/envs/ner_env/lib/python3.6/site-packages (from pydeck>=0.1.dev5->streamlit->-r ./examples/requirements.txt (line 12)) (4.3.3)\n",
      "Requirement already satisfied: ipykernel>=5.1.2; python_version >= \"3.4\" in /home/ociftci/anaconda3/envs/ner_env/lib/python3.6/site-packages (from pydeck>=0.1.dev5->streamlit->-r ./examples/requirements.txt (line 12)) (5.3.4)\n",
      "Requirement already satisfied: ipywidgets>=7.0.0 in /home/ociftci/anaconda3/envs/ner_env/lib/python3.6/site-packages (from pydeck>=0.1.dev5->streamlit->-r ./examples/requirements.txt (line 12)) (7.5.1)\n",
      "Requirement already satisfied: s3transfer<0.4.0,>=0.3.0 in /home/ociftci/anaconda3/envs/ner_env/lib/python3.6/site-packages (from boto3->streamlit->-r ./examples/requirements.txt (line 12)) (0.3.3)\n",
      "Requirement already satisfied: pyasn1<0.5.0,>=0.4.6 in /home/ociftci/anaconda3/envs/ner_env/lib/python3.6/site-packages (from pyasn1-modules>=0.2.1->google-auth<2,>=1.6.3->tensorboard->-r ./examples/requirements.txt (line 1)) (0.4.8)\n",
      "Requirement already satisfied: oauthlib>=3.0.0 in /home/ociftci/anaconda3/envs/ner_env/lib/python3.6/site-packages (from requests-oauthlib>=0.7.0->google-auth-oauthlib<0.5,>=0.4.1->tensorboard->-r ./examples/requirements.txt (line 1)) (3.1.0)\n",
      "Requirement already satisfied: smmap<4,>=3.0.1 in /home/ociftci/anaconda3/envs/ner_env/lib/python3.6/site-packages (from gitdb<5,>=4.0.1->gitpython->git-python==1.0.3->-r ./examples/requirements.txt (line 10)) (3.0.4)\n",
      "Requirement already satisfied: MarkupSafe>=0.23 in /home/ociftci/anaconda3/envs/ner_env/lib/python3.6/site-packages (from jinja2->altair>=3.2.0->streamlit->-r ./examples/requirements.txt (line 12)) (1.1.1)\n",
      "Requirement already satisfied: pyrsistent>=0.14.0 in /home/ociftci/anaconda3/envs/ner_env/lib/python3.6/site-packages (from jsonschema->altair>=3.2.0->streamlit->-r ./examples/requirements.txt (line 12)) (0.17.3)\n",
      "Requirement already satisfied: ipython-genutils in /home/ociftci/anaconda3/envs/ner_env/lib/python3.6/site-packages (from traitlets>=4.3.2->pydeck>=0.1.dev5->streamlit->-r ./examples/requirements.txt (line 12)) (0.2.0)\n",
      "Requirement already satisfied: ipython>=5.0.0 in /home/ociftci/anaconda3/envs/ner_env/lib/python3.6/site-packages (from ipykernel>=5.1.2; python_version >= \"3.4\"->pydeck>=0.1.dev5->streamlit->-r ./examples/requirements.txt (line 12)) (5.8.0)\n",
      "Requirement already satisfied: jupyter-client in /home/ociftci/anaconda3/envs/ner_env/lib/python3.6/site-packages (from ipykernel>=5.1.2; python_version >= \"3.4\"->pydeck>=0.1.dev5->streamlit->-r ./examples/requirements.txt (line 12)) (6.1.7)\n",
      "Requirement already satisfied: nbformat>=4.2.0 in /home/ociftci/anaconda3/envs/ner_env/lib/python3.6/site-packages (from ipywidgets>=7.0.0->pydeck>=0.1.dev5->streamlit->-r ./examples/requirements.txt (line 12)) (5.0.8)\n",
      "Requirement already satisfied: widgetsnbextension~=3.5.0 in /home/ociftci/anaconda3/envs/ner_env/lib/python3.6/site-packages (from ipywidgets>=7.0.0->pydeck>=0.1.dev5->streamlit->-r ./examples/requirements.txt (line 12)) (3.5.1)\n",
      "Requirement already satisfied: pygments in /home/ociftci/anaconda3/envs/ner_env/lib/python3.6/site-packages (from ipython>=5.0.0->ipykernel>=5.1.2; python_version >= \"3.4\"->pydeck>=0.1.dev5->streamlit->-r ./examples/requirements.txt (line 12)) (2.7.2)\n",
      "Requirement already satisfied: simplegeneric>0.8 in /home/ociftci/anaconda3/envs/ner_env/lib/python3.6/site-packages (from ipython>=5.0.0->ipykernel>=5.1.2; python_version >= \"3.4\"->pydeck>=0.1.dev5->streamlit->-r ./examples/requirements.txt (line 12)) (0.8.1)\n",
      "Requirement already satisfied: pickleshare in /home/ociftci/anaconda3/envs/ner_env/lib/python3.6/site-packages (from ipython>=5.0.0->ipykernel>=5.1.2; python_version >= \"3.4\"->pydeck>=0.1.dev5->streamlit->-r ./examples/requirements.txt (line 12)) (0.7.5)\n",
      "Requirement already satisfied: prompt-toolkit<2.0.0,>=1.0.4 in /home/ociftci/anaconda3/envs/ner_env/lib/python3.6/site-packages (from ipython>=5.0.0->ipykernel>=5.1.2; python_version >= \"3.4\"->pydeck>=0.1.dev5->streamlit->-r ./examples/requirements.txt (line 12)) (1.0.15)\n",
      "Requirement already satisfied: pexpect; sys_platform != \"win32\" in /home/ociftci/anaconda3/envs/ner_env/lib/python3.6/site-packages (from ipython>=5.0.0->ipykernel>=5.1.2; python_version >= \"3.4\"->pydeck>=0.1.dev5->streamlit->-r ./examples/requirements.txt (line 12)) (4.8.0)\n",
      "Requirement already satisfied: jupyter-core>=4.6.0 in /home/ociftci/anaconda3/envs/ner_env/lib/python3.6/site-packages (from jupyter-client->ipykernel>=5.1.2; python_version >= \"3.4\"->pydeck>=0.1.dev5->streamlit->-r ./examples/requirements.txt (line 12)) (4.6.3)\n",
      "Requirement already satisfied: pyzmq>=13 in /home/ociftci/anaconda3/envs/ner_env/lib/python3.6/site-packages (from jupyter-client->ipykernel>=5.1.2; python_version >= \"3.4\"->pydeck>=0.1.dev5->streamlit->-r ./examples/requirements.txt (line 12)) (19.0.2)\n",
      "Requirement already satisfied: notebook>=4.4.1 in /home/ociftci/anaconda3/envs/ner_env/lib/python3.6/site-packages (from widgetsnbextension~=3.5.0->ipywidgets>=7.0.0->pydeck>=0.1.dev5->streamlit->-r ./examples/requirements.txt (line 12)) (6.1.5)\n",
      "Requirement already satisfied: wcwidth in /home/ociftci/anaconda3/envs/ner_env/lib/python3.6/site-packages (from prompt-toolkit<2.0.0,>=1.0.4->ipython>=5.0.0->ipykernel>=5.1.2; python_version >= \"3.4\"->pydeck>=0.1.dev5->streamlit->-r ./examples/requirements.txt (line 12)) (0.2.5)\n",
      "Requirement already satisfied: ptyprocess>=0.5 in /home/ociftci/anaconda3/envs/ner_env/lib/python3.6/site-packages (from pexpect; sys_platform != \"win32\"->ipython>=5.0.0->ipykernel>=5.1.2; python_version >= \"3.4\"->pydeck>=0.1.dev5->streamlit->-r ./examples/requirements.txt (line 12)) (0.6.0)\n",
      "Requirement already satisfied: Send2Trash in /home/ociftci/anaconda3/envs/ner_env/lib/python3.6/site-packages (from notebook>=4.4.1->widgetsnbextension~=3.5.0->ipywidgets>=7.0.0->pydeck>=0.1.dev5->streamlit->-r ./examples/requirements.txt (line 12)) (1.5.0)\n",
      "Requirement already satisfied: nbconvert in /home/ociftci/anaconda3/envs/ner_env/lib/python3.6/site-packages (from notebook>=4.4.1->widgetsnbextension~=3.5.0->ipywidgets>=7.0.0->pydeck>=0.1.dev5->streamlit->-r ./examples/requirements.txt (line 12)) (6.0.7)\n",
      "Requirement already satisfied: terminado>=0.8.3 in /home/ociftci/anaconda3/envs/ner_env/lib/python3.6/site-packages (from notebook>=4.4.1->widgetsnbextension~=3.5.0->ipywidgets>=7.0.0->pydeck>=0.1.dev5->streamlit->-r ./examples/requirements.txt (line 12)) (0.9.1)\n",
      "Requirement already satisfied: argon2-cffi in /home/ociftci/anaconda3/envs/ner_env/lib/python3.6/site-packages (from notebook>=4.4.1->widgetsnbextension~=3.5.0->ipywidgets>=7.0.0->pydeck>=0.1.dev5->streamlit->-r ./examples/requirements.txt (line 12)) (20.1.0)\n",
      "Requirement already satisfied: prometheus-client in /home/ociftci/anaconda3/envs/ner_env/lib/python3.6/site-packages (from notebook>=4.4.1->widgetsnbextension~=3.5.0->ipywidgets>=7.0.0->pydeck>=0.1.dev5->streamlit->-r ./examples/requirements.txt (line 12)) (0.8.0)\n",
      "Requirement already satisfied: mistune<2,>=0.8.1 in /home/ociftci/anaconda3/envs/ner_env/lib/python3.6/site-packages (from nbconvert->notebook>=4.4.1->widgetsnbextension~=3.5.0->ipywidgets>=7.0.0->pydeck>=0.1.dev5->streamlit->-r ./examples/requirements.txt (line 12)) (0.8.4)\n",
      "Requirement already satisfied: jupyterlab-pygments in /home/ociftci/anaconda3/envs/ner_env/lib/python3.6/site-packages (from nbconvert->notebook>=4.4.1->widgetsnbextension~=3.5.0->ipywidgets>=7.0.0->pydeck>=0.1.dev5->streamlit->-r ./examples/requirements.txt (line 12)) (0.1.2)\n",
      "Requirement already satisfied: pandocfilters>=1.4.1 in /home/ociftci/anaconda3/envs/ner_env/lib/python3.6/site-packages (from nbconvert->notebook>=4.4.1->widgetsnbextension~=3.5.0->ipywidgets>=7.0.0->pydeck>=0.1.dev5->streamlit->-r ./examples/requirements.txt (line 12)) (1.4.2)\n",
      "Requirement already satisfied: testpath in /home/ociftci/anaconda3/envs/ner_env/lib/python3.6/site-packages (from nbconvert->notebook>=4.4.1->widgetsnbextension~=3.5.0->ipywidgets>=7.0.0->pydeck>=0.1.dev5->streamlit->-r ./examples/requirements.txt (line 12)) (0.4.4)\n",
      "Requirement already satisfied: defusedxml in /home/ociftci/anaconda3/envs/ner_env/lib/python3.6/site-packages (from nbconvert->notebook>=4.4.1->widgetsnbextension~=3.5.0->ipywidgets>=7.0.0->pydeck>=0.1.dev5->streamlit->-r ./examples/requirements.txt (line 12)) (0.6.0)\n",
      "Requirement already satisfied: nbclient<0.6.0,>=0.5.0 in /home/ociftci/anaconda3/envs/ner_env/lib/python3.6/site-packages (from nbconvert->notebook>=4.4.1->widgetsnbextension~=3.5.0->ipywidgets>=7.0.0->pydeck>=0.1.dev5->streamlit->-r ./examples/requirements.txt (line 12)) (0.5.1)\n",
      "Requirement already satisfied: bleach in /home/ociftci/anaconda3/envs/ner_env/lib/python3.6/site-packages (from nbconvert->notebook>=4.4.1->widgetsnbextension~=3.5.0->ipywidgets>=7.0.0->pydeck>=0.1.dev5->streamlit->-r ./examples/requirements.txt (line 12)) (3.2.1)\n",
      "Requirement already satisfied: cffi>=1.0.0 in /home/ociftci/anaconda3/envs/ner_env/lib/python3.6/site-packages (from argon2-cffi->notebook>=4.4.1->widgetsnbextension~=3.5.0->ipywidgets>=7.0.0->pydeck>=0.1.dev5->streamlit->-r ./examples/requirements.txt (line 12)) (1.11.5)\n",
      "Requirement already satisfied: async-generator in /home/ociftci/anaconda3/envs/ner_env/lib/python3.6/site-packages (from nbclient<0.6.0,>=0.5.0->nbconvert->notebook>=4.4.1->widgetsnbextension~=3.5.0->ipywidgets>=7.0.0->pydeck>=0.1.dev5->streamlit->-r ./examples/requirements.txt (line 12)) (1.10)\n",
      "Requirement already satisfied: nest-asyncio in /home/ociftci/anaconda3/envs/ner_env/lib/python3.6/site-packages (from nbclient<0.6.0,>=0.5.0->nbconvert->notebook>=4.4.1->widgetsnbextension~=3.5.0->ipywidgets>=7.0.0->pydeck>=0.1.dev5->streamlit->-r ./examples/requirements.txt (line 12)) (1.4.2)\n",
      "Requirement already satisfied: webencodings in /home/ociftci/anaconda3/envs/ner_env/lib/python3.6/site-packages (from bleach->nbconvert->notebook>=4.4.1->widgetsnbextension~=3.5.0->ipywidgets>=7.0.0->pydeck>=0.1.dev5->streamlit->-r ./examples/requirements.txt (line 12)) (0.5.1)\n",
      "Requirement already satisfied: pycparser in /home/ociftci/anaconda3/envs/ner_env/lib/python3.6/site-packages (from cffi>=1.0.0->argon2-cffi->notebook>=4.4.1->widgetsnbextension~=3.5.0->ipywidgets>=7.0.0->pydeck>=0.1.dev5->streamlit->-r ./examples/requirements.txt (line 12)) (2.20)\n",
      "/home/ociftci/Untitled Folder\n"
     ]
    }
   ],
   "source": [
    "#!wget https://raw.githubusercontent.com/huggingface/transformers/master/examples/token-classification/run_ner.py\n",
    "!wget https://raw.githubusercontent.com/huggingface/transformers/master/examples/token-classification/utils_ner.py\n",
    "!wget https://raw.githubusercontent.com/huggingface/transformers/master/examples/token-classification/tasks.py\n",
    "\n",
    "!git clone https://github.com/huggingface/transformers\n",
    "%cd transformers\n",
    "!pip install .\n",
    "!pip install -r ./examples/requirements.txt\n",
    "%cd .."
   ]
  },
  {
   "cell_type": "code",
   "execution_count": 26,
   "metadata": {
    "colab": {
     "base_uri": "https://localhost:8080/"
    },
    "id": "tcIyZkkYIVWo",
    "outputId": "c7a73fb2-790b-4bf6-c802-3a65c69b7266"
   },
   "outputs": [
    {
     "name": "stdout",
     "output_type": "stream",
     "text": [
      "Requirement already up-to-date: pyarrow in /home/ociftci/anaconda3/envs/ner_env/lib/python3.6/site-packages (2.0.0)\r\n",
      "Requirement already satisfied, skipping upgrade: numpy>=1.14 in /home/ociftci/anaconda3/envs/ner_env/lib/python3.6/site-packages (from pyarrow) (1.19.4)\r\n"
     ]
    }
   ],
   "source": [
    "!pip install pyarrow --upgrade"
   ]
  },
  {
   "cell_type": "code",
   "execution_count": 27,
   "metadata": {
    "id": "jP8gH1zTIM0N"
   },
   "outputs": [],
   "source": [
    "import transformers"
   ]
  },
  {
   "cell_type": "code",
   "execution_count": 16,
   "metadata": {
    "id": "vyP1hpw3jZMX"
   },
   "outputs": [
    {
     "name": "stdout",
     "output_type": "stream",
     "text": [
      "mkdir: cannot create directory ‘data’: File exists\r\n"
     ]
    }
   ],
   "source": [
    "!mkdir data\n",
    "# aynı dizinde data klasöründe train,test,dev tsv dosyaları yükleniyor.\n",
    "# eğer text dosyaları varsa hazır, direk run_ner.py çalıştırılabilir.\n",
    "\n",
    "blankLineIndicator = \"BlankLineIndicator\"\n",
    "blank = \"\"\n",
    "firstColumnIndex = 0\n",
    "secondColumnIndex = 1"
   ]
  },
  {
   "cell_type": "code",
   "execution_count": 17,
   "metadata": {},
   "outputs": [
    {
     "name": "stdout",
     "output_type": "stream",
     "text": [
      "cp: cannot stat './NCBI-disease/': No such file or directory\r\n"
     ]
    }
   ],
   "source": [
    "!cp -r ./NCBI-disease/ ./data/"
   ]
  },
  {
   "cell_type": "code",
   "execution_count": 8,
   "metadata": {},
   "outputs": [
    {
     "name": "stdout",
     "output_type": "stream",
     "text": [
      "mv: cannot stat './data/NCBI-disease/devel.tsv': No such file or directory\r\n"
     ]
    }
   ],
   "source": [
    "!mv ./data/NCBI-disease/devel.tsv ./data/NCBI-disease/dev.tsv"
   ]
  },
  {
   "cell_type": "code",
   "execution_count": 13,
   "metadata": {},
   "outputs": [
    {
     "name": "stdout",
     "output_type": "stream",
     "text": [
      "mv: cannot stat './dev.tsv': No such file or directory\r\n"
     ]
    }
   ],
   "source": [
    "!mv ./dev.tsv ./NCBI-disease/"
   ]
  },
  {
   "cell_type": "code",
   "execution_count": 18,
   "metadata": {
    "colab": {
     "base_uri": "https://localhost:8080/"
    },
    "id": "0jFFJ59EmDgq",
    "outputId": "1f99dc02-c9f4-4d61-eaa2-e4c82c6fbb92"
   },
   "outputs": [
    {
     "name": "stdout",
     "output_type": "stream",
     "text": [
      "/home/ociftci/Untitled Folder\r\n"
     ]
    }
   ],
   "source": [
    "!pwd"
   ]
  },
  {
   "cell_type": "code",
   "execution_count": 15,
   "metadata": {
    "id": "d_yjUNgrKb4f"
   },
   "outputs": [],
   "source": [
    "#!unzip NERdata.zip -d data"
   ]
  },
  {
   "cell_type": "code",
   "execution_count": 16,
   "metadata": {
    "id": "vTA-6FiYKV6M"
   },
   "outputs": [],
   "source": [
    "#!ls data/"
   ]
  },
  {
   "cell_type": "code",
   "execution_count": 28,
   "metadata": {
    "id": "P-0xfwPrjZMd"
   },
   "outputs": [],
   "source": [
    "train_dev_tsv = []\n",
    "\n",
    "with open('./data/NCBI-disease/train_dev.tsv', 'r') as f:\n",
    "  train_dev_pd = f.readlines()\n",
    "\n",
    "\n",
    "for row in train_dev_pd:\n",
    "    row = row.split('\\n')[0].split('\\t')\n",
    "    #Token Sütun İsmi\n",
    "    if row:\n",
    "      pass\n",
    "    if row[firstColumnIndex] == '':\n",
    "        train_dev_tsv.append(blank)\n",
    "    else:           #Token Sütun İsmi\n",
    "       #print(row)\n",
    "       train_dev_tsv.append(row[firstColumnIndex] +  \" \" + row[secondColumnIndex])\n"
   ]
  },
  {
   "cell_type": "code",
   "execution_count": 29,
   "metadata": {
    "colab": {
     "base_uri": "https://localhost:8080/",
     "height": 35
    },
    "id": "qbQlvHBIK8WF",
    "outputId": "9a9d2792-9d8e-4f71-d19a-2d36913aa50d"
   },
   "outputs": [
    {
     "data": {
      "text/plain": [
       "'Identification O'"
      ]
     },
     "execution_count": 29,
     "metadata": {},
     "output_type": "execute_result"
    }
   ],
   "source": [
    "train_dev_tsv[0]"
   ]
  },
  {
   "cell_type": "code",
   "execution_count": 32,
   "metadata": {
    "id": "GMMJQ59jqi9v"
   },
   "outputs": [],
   "source": [
    "test_tsv = []\n",
    "\n",
    "with open('./data/NCBI-disease/test.tsv', 'r') as f:\n",
    "  test_pd = f.readlines()\n",
    "\n",
    "\n",
    "for row in test_pd:\n",
    "    row = row.split('\\n')[0].split('\\t')\n",
    "    #Token Sütun İsmi\n",
    "    if row:\n",
    "      pass\n",
    "    if row[firstColumnIndex] == '':\n",
    "        test_tsv.append(blank)\n",
    "    else:           #Token Sütun İsmi\n",
    "       #print(row)\n",
    "       test_tsv.append(row[firstColumnIndex] +  \" \" + row[secondColumnIndex])\n"
   ]
  },
  {
   "cell_type": "code",
   "execution_count": 34,
   "metadata": {
    "id": "FU87j6YqsDwH"
   },
   "outputs": [],
   "source": [
    "dev_tsv = []\n",
    "\n",
    "with open('./data/NCBI-disease/dev.tsv', 'r') as f:\n",
    "  test_pd = f.readlines()\n",
    "\n",
    "\n",
    "for row in test_pd:\n",
    "    row = row.split('\\n')[0].split('\\t')\n",
    "    #Token Sütun İsmi\n",
    "    if row:\n",
    "      pass\n",
    "    if row[firstColumnIndex] == '':\n",
    "        dev_tsv.append(blank)\n",
    "    else:           #Token Sütun İsmi\n",
    "       #print(row)\n",
    "       dev_tsv.append(row[firstColumnIndex] +  \" \" + row[secondColumnIndex])\n"
   ]
  },
  {
   "cell_type": "code",
   "execution_count": 35,
   "metadata": {
    "colab": {
     "base_uri": "https://localhost:8080/"
    },
    "id": "bkIy3l4fLdg5",
    "outputId": "d565ab67-4d62-461d-ab59-fb9128c6abcd"
   },
   "outputs": [
    {
     "name": "stdout",
     "output_type": "stream",
     "text": [
      "166017\n",
      "166017\n"
     ]
    }
   ],
   "source": [
    "print(len(train_dev_pd))\n",
    "print(len(train_dev_tsv))"
   ]
  },
  {
   "cell_type": "code",
   "execution_count": 36,
   "metadata": {
    "colab": {
     "base_uri": "https://localhost:8080/",
     "height": 35
    },
    "id": "L3id0ZOIlGbf",
    "outputId": "67e0c2ea-ed54-4008-9fe6-a6b6fb25436b"
   },
   "outputs": [
    {
     "data": {
      "text/plain": [
       "'we'"
      ]
     },
     "execution_count": 36,
     "metadata": {},
     "output_type": "execute_result"
    }
   ],
   "source": [
    "train_dev_tsv[12288].split()[0]"
   ]
  },
  {
   "cell_type": "code",
   "execution_count": 37,
   "metadata": {
    "colab": {
     "base_uri": "https://localhost:8080/"
    },
    "id": "GxyD-_05Li65",
    "outputId": "1319be9c-90f3-4299-e9a2-1ef1d829d6b2"
   },
   "outputs": [
    {
     "data": {
      "text/plain": [
       "('Identification\\tO\\n', 'Identification O')"
      ]
     },
     "execution_count": 37,
     "metadata": {},
     "output_type": "execute_result"
    }
   ],
   "source": [
    "train_dev_pd[0], train_dev_tsv[0]"
   ]
  },
  {
   "cell_type": "code",
   "execution_count": 38,
   "metadata": {
    "colab": {
     "base_uri": "https://localhost:8080/"
    },
    "id": "Nx3yV_vGXVLq",
    "outputId": "bcf93981-4c10-40b3-f564-b0c1e34cd78d"
   },
   "outputs": [
    {
     "name": "stdout",
     "output_type": "stream",
     "text": [
      "{'B', 'I', 'O'}\n"
     ]
    }
   ],
   "source": [
    "l = []\n",
    "for item in train_dev_tsv:\n",
    "  try:\n",
    "    item = item.split()[1]\n",
    "    if item != 'B' and item != 'I' and item != 'O':\n",
    "      print(item)\n",
    "    l.append(item)\n",
    "  except:\n",
    "    pass\n",
    "\n",
    "l = set(l)\n",
    "print(l)\n",
    "\n",
    "with open('labels.txt', 'w') as f:\n",
    "  for item in list(l):\n",
    "    f.write(item + '\\n')\n"
   ]
  },
  {
   "cell_type": "code",
   "execution_count": 39,
   "metadata": {
    "id": "W3PBc1PJMeYl"
   },
   "outputs": [],
   "source": [
    "#!cut -f2 BC2GM/train.tsv | sort | uniq"
   ]
  },
  {
   "cell_type": "code",
   "execution_count": 40,
   "metadata": {
    "colab": {
     "base_uri": "https://localhost:8080/",
     "height": 35
    },
    "id": "0y87dD7MNYgq",
    "outputId": "c152ea42-5301-4ecf-8553-57b20ca60c3c"
   },
   "outputs": [
    {
     "data": {
      "text/plain": [
       "'BRCA1 O'"
      ]
     },
     "execution_count": 40,
     "metadata": {},
     "output_type": "execute_result"
    }
   ],
   "source": [
    "dev_tsv[0]"
   ]
  },
  {
   "cell_type": "code",
   "execution_count": 41,
   "metadata": {
    "id": "sbrM38jYjZMg"
   },
   "outputs": [],
   "source": [
    "def create_txt(file_name, lines):\n",
    "    file = open(file_name, 'w') \n",
    "    for line in lines:\n",
    "        file.write(line + \"\\n\") \n",
    "    file.close()\n",
    "\n",
    "#create_txt(\"./data/train.txt\",train_tsv)\n",
    "create_txt(\"data/train.txt\", train_dev_tsv)\n",
    "create_txt(\"data/test.txt\", test_tsv)\n",
    "create_txt(\"data/dev.txt\", dev_tsv)\n",
    "# txt file'a çeviriyoruz"
   ]
  },
  {
   "cell_type": "code",
   "execution_count": 28,
   "metadata": {
    "id": "Y9_OvDdOOGAP"
   },
   "outputs": [],
   "source": [
    "# !cat data/NCBI-disease/train.tsv | tr \"\\t\" \" \" | head -10"
   ]
  },
  {
   "cell_type": "code",
   "execution_count": 29,
   "metadata": {
    "id": "lP4TrR-4jZMj"
   },
   "outputs": [],
   "source": [
    "#labels.txt -> unique varlık ismi sınıflarının olduğu text dosyası"
   ]
  },
  {
   "cell_type": "code",
   "execution_count": 1,
   "metadata": {
    "id": "-mGNFcBFjZMl"
   },
   "outputs": [],
   "source": [
    "OUTPUT_DIR = \"electra-ner\""
   ]
  },
  {
   "cell_type": "code",
   "execution_count": 2,
   "metadata": {
    "id": "9KUGhLs0ne9W"
   },
   "outputs": [],
   "source": [
    "!cd data"
   ]
  },
  {
   "cell_type": "code",
   "execution_count": 3,
   "metadata": {
    "colab": {
     "base_uri": "https://localhost:8080/"
    },
    "id": "EiwfZsQI0P-b",
    "outputId": "33d140f6-512d-4b46-aeab-0a592b6af607"
   },
   "outputs": [
    {
     "name": "stdout",
     "output_type": "stream",
     "text": [
      "dev.txt  NCBI-disease  test.txt  train.txt\r\n"
     ]
    }
   ],
   "source": [
    "!ls ./data"
   ]
  },
  {
   "cell_type": "code",
   "execution_count": 9,
   "metadata": {
    "colab": {
     "base_uri": "https://localhost:8080/"
    },
    "id": "0Wgmcr74jZMo",
    "outputId": "d1c18aab-4385-437e-e88d-224f4a63c5a3",
    "scrolled": true
   },
   "outputs": [
    {
     "name": "stdout",
     "output_type": "stream",
     "text": [
      "11/13/2020 22:18:13 - WARNING - __main__ -   Process rank: -1, device: cuda:0, n_gpu: 2, distributed training: False, 16-bits training: False\n",
      "11/13/2020 22:18:13 - INFO - __main__ -   Training/evaluation parameters TrainingArguments(output_dir='electra-ner', overwrite_output_dir=True, do_train=True, do_eval=True, do_predict=True, evaluate_during_training=False, evaluation_strategy=<EvaluationStrategy.NO: 'no'>, prediction_loss_only=False, per_device_train_batch_size=16, per_device_eval_batch_size=8, per_gpu_train_batch_size=None, per_gpu_eval_batch_size=None, gradient_accumulation_steps=1, eval_accumulation_steps=None, learning_rate=5e-05, weight_decay=0.0, adam_beta1=0.9, adam_beta2=0.999, adam_epsilon=1e-08, max_grad_norm=1.0, num_train_epochs=3.0, max_steps=-1, warmup_steps=0, logging_dir='runs/Nov13_22-18-13_inzva-GPU', logging_first_step=False, logging_steps=500, save_steps=10000, save_total_limit=None, no_cuda=False, seed=41, fp16=False, fp16_opt_level='O1', local_rank=-1, tpu_num_cores=None, tpu_metrics_debug=False, debug=False, dataloader_drop_last=False, eval_steps=500, dataloader_num_workers=0, past_index=-1, run_name='electra-ner', disable_tqdm=False, remove_unused_columns=True, label_names=None, load_best_model_at_end=False, metric_for_best_model=None, greater_is_better=None)\n",
      "Some weights of the model checkpoint at enelpi/med-electra-small-discriminator were not used when initializing ElectraForTokenClassification: ['discriminator_predictions.dense.weight', 'discriminator_predictions.dense.bias', 'discriminator_predictions.dense_prediction.weight', 'discriminator_predictions.dense_prediction.bias']\n",
      "- This IS expected if you are initializing ElectraForTokenClassification from the checkpoint of a model trained on another task or with another architecture (e.g. initializing a BertForSequenceClassification model from a BertForPretraining model).\n",
      "- This IS NOT expected if you are initializing ElectraForTokenClassification from the checkpoint of a model that you expect to be exactly identical (initializing a BertForSequenceClassification model from a BertForSequenceClassification model).\n",
      "Some weights of ElectraForTokenClassification were not initialized from the model checkpoint at enelpi/med-electra-small-discriminator and are newly initialized: ['classifier.weight', 'classifier.bias']\n",
      "You should probably TRAIN this model on a down-stream task to be able to use it for predictions and inference.\n",
      "11/13/2020 22:18:18 - INFO - filelock -   Lock 140716208148096 acquired on ./data/cached_train_ElectraTokenizer_128.lock\n",
      "11/13/2020 22:18:18 - INFO - utils_ner -   Loading features from cached file ./data/cached_train_ElectraTokenizer_128\n",
      "11/13/2020 22:18:19 - INFO - filelock -   Lock 140716208148096 released on ./data/cached_train_ElectraTokenizer_128.lock\n",
      "11/13/2020 22:18:19 - INFO - filelock -   Lock 140716208148040 acquired on ./data/cached_dev_ElectraTokenizer_128.lock\n",
      "11/13/2020 22:18:19 - INFO - utils_ner -   Loading features from cached file ./data/cached_dev_ElectraTokenizer_128\n",
      "11/13/2020 22:18:19 - INFO - filelock -   Lock 140716208148040 released on ./data/cached_dev_ElectraTokenizer_128.lock\n",
      "  0%|                                                   | 0/597 [00:00<?, ?it/s]Traceback (most recent call last):\n",
      "  File \"run_ner.py\", line 311, in <module>\n",
      "    main()\n",
      "  File \"run_ner.py\", line 247, in main\n",
      "    model_path=model_args.model_name_or_path if os.path.isdir(model_args.model_name_or_path) else None\n",
      "  File \"/home/ociftci/anaconda3/envs/ner_env/lib/python3.6/site-packages/transformers/trainer.py\", line 775, in train\n",
      "    tr_loss += self.training_step(model, inputs)\n",
      "  File \"/home/ociftci/anaconda3/envs/ner_env/lib/python3.6/site-packages/transformers/trainer.py\", line 1112, in training_step\n",
      "    loss = self.compute_loss(model, inputs)\n",
      "  File \"/home/ociftci/anaconda3/envs/ner_env/lib/python3.6/site-packages/transformers/trainer.py\", line 1136, in compute_loss\n",
      "    outputs = model(**inputs)\n",
      "  File \"/home/ociftci/anaconda3/envs/ner_env/lib/python3.6/site-packages/torch/nn/modules/module.py\", line 727, in _call_impl\n",
      "    result = self.forward(*input, **kwargs)\n",
      "  File \"/home/ociftci/anaconda3/envs/ner_env/lib/python3.6/site-packages/torch/nn/parallel/data_parallel.py\", line 157, in forward\n",
      "    inputs, kwargs = self.scatter(inputs, kwargs, self.device_ids)\n",
      "  File \"/home/ociftci/anaconda3/envs/ner_env/lib/python3.6/site-packages/torch/nn/parallel/data_parallel.py\", line 168, in scatter\n",
      "    return scatter_kwargs(inputs, kwargs, device_ids, dim=self.dim)\n",
      "  File \"/home/ociftci/anaconda3/envs/ner_env/lib/python3.6/site-packages/torch/nn/parallel/scatter_gather.py\", line 37, in scatter_kwargs\n",
      "    kwargs = scatter(kwargs, target_gpus, dim) if kwargs else []\n",
      "  File \"/home/ociftci/anaconda3/envs/ner_env/lib/python3.6/site-packages/torch/nn/parallel/scatter_gather.py\", line 28, in scatter\n",
      "    res = scatter_map(inputs)\n",
      "  File \"/home/ociftci/anaconda3/envs/ner_env/lib/python3.6/site-packages/torch/nn/parallel/scatter_gather.py\", line 19, in scatter_map\n",
      "    return list(map(type(obj), zip(*map(scatter_map, obj.items()))))\n",
      "  File \"/home/ociftci/anaconda3/envs/ner_env/lib/python3.6/site-packages/torch/nn/parallel/scatter_gather.py\", line 15, in scatter_map\n",
      "    return list(zip(*map(scatter_map, obj)))\n",
      "  File \"/home/ociftci/anaconda3/envs/ner_env/lib/python3.6/site-packages/torch/nn/parallel/scatter_gather.py\", line 13, in scatter_map\n",
      "    return Scatter.apply(target_gpus, None, dim, obj)\n",
      "  File \"/home/ociftci/anaconda3/envs/ner_env/lib/python3.6/site-packages/torch/nn/parallel/_functions.py\", line 92, in forward\n",
      "    outputs = comm.scatter(input, target_gpus, chunk_sizes, ctx.dim, streams)\n",
      "  File \"/home/ociftci/anaconda3/envs/ner_env/lib/python3.6/site-packages/torch/nn/parallel/comm.py\", line 186, in scatter\n",
      "    return tuple(torch._C._scatter(tensor, devices, chunk_sizes, dim, streams))\n",
      "RuntimeError: CUDA error: out of memory\n",
      "  0%|                                                   | 0/597 [00:00<?, ?it/s]\n"
     ]
    }
   ],
   "source": [
    "!python3 run_ner.py --data_dir ./data/ \\\n",
    "--labels ./labels.txt \\\n",
    "--model_name_or_path enelpi/med-electra-small-discriminator \\\n",
    "--output_dir $OUTPUT_DIR \\\n",
    "--max_seq_length 128 \\\n",
    "--num_train_epochs 3 \\\n",
    "--per_device_train_batch_size 16 \\\n",
    "--overwrite_output_dir \\\n",
    "--save_steps 10000 \\\n",
    "--seed 41 \\\n",
    "--do_train \\\n",
    "--do_eval \\\n",
    "--do_predict"
   ]
  },
  {
   "cell_type": "code",
   "execution_count": 45,
   "metadata": {},
   "outputs": [
    {
     "name": "stdout",
     "output_type": "stream",
     "text": [
      "1.7.0+cu101\n",
      "True\n"
     ]
    }
   ],
   "source": [
    "import torch\n",
    "print(torch.__version__)\n",
    "print(torch.cuda.is_available())"
   ]
  },
  {
   "cell_type": "code",
   "execution_count": 4,
   "metadata": {},
   "outputs": [
    {
     "name": "stdout",
     "output_type": "stream",
     "text": [
      "WARNING: you should run this program as super-user.\n",
      "  *-display                 \n",
      "       description: VGA compatible controller\n",
      "       product: GV102\n",
      "       vendor: NVIDIA Corporation\n",
      "       physical id: 0\n",
      "       bus info: pci@0000:01:00.0\n",
      "       version: a1\n",
      "       width: 64 bits\n",
      "       clock: 33MHz\n",
      "       capabilities: vga_controller bus_master cap_list rom\n",
      "       configuration: driver=nvidia latency=0\n",
      "       resources: irq:136 memory:78000000-78ffffff memory:60000000-6fffffff memory:76000000-77ffffff ioport:5000(size=128) memory:c0000-dffff\n",
      "  *-display\n",
      "       description: VGA compatible controller\n",
      "       product: GV102\n",
      "       vendor: NVIDIA Corporation\n",
      "       physical id: 0\n",
      "       bus info: pci@0000:05:00.0\n",
      "       version: a1\n",
      "       width: 64 bits\n",
      "       clock: 33MHz\n",
      "       capabilities: vga_controller bus_master cap_list rom\n",
      "       configuration: driver=nvidia latency=0\n",
      "       resources: irq:137 memory:74000000-74ffffff memory:40000000-4fffffff memory:72000000-73ffffff ioport:3000(size=128) memory:75000000-7507ffff\n",
      "WARNING: output may be incomplete or inaccurate, you should run this program as super-user.\n"
     ]
    }
   ],
   "source": [
    "!lshw -c video"
   ]
  },
  {
   "cell_type": "code",
   "execution_count": 7,
   "metadata": {},
   "outputs": [
    {
     "name": "stdout",
     "output_type": "stream",
     "text": [
      "nvcc: NVIDIA (R) Cuda compiler driver\r\n",
      "Copyright (c) 2005-2018 NVIDIA Corporation\r\n",
      "Built on Sat_Aug_25_21:08:01_CDT_2018\r\n",
      "Cuda compilation tools, release 10.0, V10.0.130\r\n"
     ]
    }
   ],
   "source": [
    "!nvcc --version"
   ]
  },
  {
   "cell_type": "code",
   "execution_count": 6,
   "metadata": {},
   "outputs": [
    {
     "name": "stdout",
     "output_type": "stream",
     "text": [
      "filename:       /lib/modules/5.3.0-46-generic/updates/dkms/nvidia.ko\r\n",
      "alias:          char-major-195-*\r\n",
      "version:        435.21\r\n",
      "supported:      external\r\n",
      "license:        NVIDIA\r\n",
      "srcversion:     2D4143B613DF8762A7AAE09\r\n",
      "alias:          pci:v000010DEd00000E00sv*sd*bc04sc80i00*\r\n",
      "alias:          pci:v000010DEd*sv*sd*bc03sc02i00*\r\n",
      "alias:          pci:v000010DEd*sv*sd*bc03sc00i00*\r\n",
      "depends:        ipmi_msghandler\r\n",
      "retpoline:      Y\r\n",
      "name:           nvidia\r\n",
      "vermagic:       5.3.0-46-generic SMP mod_unload \r\n",
      "parm:           NvSwitchRegDwords:NvSwitch regkey (charp)\r\n",
      "parm:           NVreg_Mobile:int\r\n",
      "parm:           NVreg_ResmanDebugLevel:int\r\n",
      "parm:           NVreg_RmLogonRC:int\r\n",
      "parm:           NVreg_ModifyDeviceFiles:int\r\n",
      "parm:           NVreg_DeviceFileUID:int\r\n",
      "parm:           NVreg_DeviceFileGID:int\r\n",
      "parm:           NVreg_DeviceFileMode:int\r\n",
      "parm:           NVreg_InitializeSystemMemoryAllocations:int\r\n",
      "parm:           NVreg_UsePageAttributeTable:int\r\n",
      "parm:           NVreg_MapRegistersEarly:int\r\n",
      "parm:           NVreg_RegisterForACPIEvents:int\r\n",
      "parm:           NVreg_EnablePCIeGen3:int\r\n",
      "parm:           NVreg_EnableMSI:int\r\n",
      "parm:           NVreg_TCEBypassMode:int\r\n",
      "parm:           NVreg_EnableStreamMemOPs:int\r\n",
      "parm:           NVreg_EnableBacklightHandler:int\r\n",
      "parm:           NVreg_RestrictProfilingToAdminUsers:int\r\n",
      "parm:           NVreg_PreserveVideoMemoryAllocations:int\r\n",
      "parm:           NVreg_DynamicPowerManagement:int\r\n",
      "parm:           NVreg_EnableUserNUMAManagement:int\r\n",
      "parm:           NVreg_MemoryPoolSize:int\r\n",
      "parm:           NVreg_KMallocHeapMaxSize:int\r\n",
      "parm:           NVreg_VMallocHeapMaxSize:int\r\n",
      "parm:           NVreg_IgnoreMMIOCheck:int\r\n",
      "parm:           NVreg_NvLinkDisable:int\r\n",
      "parm:           NVreg_RegisterPCIDriver:int\r\n",
      "parm:           NVreg_RegistryDwords:charp\r\n",
      "parm:           NVreg_RegistryDwordsPerDevice:charp\r\n",
      "parm:           NVreg_RmMsg:charp\r\n",
      "parm:           NVreg_GpuBlacklist:charp\r\n",
      "parm:           NVreg_TemporaryFilePath:charp\r\n",
      "parm:           NVreg_AssignGpus:charp\r\n"
     ]
    }
   ],
   "source": [
    "!modinfo nvidia"
   ]
  },
  {
   "cell_type": "code",
   "execution_count": null,
   "metadata": {
    "id": "HxXUKeJmVlFz"
   },
   "outputs": [],
   "source": [
    "# 11/06/2020 20:45:35 - INFO - __main__ -     eval_accuracy_score = 0.9825284728742295\n",
    "# 11/06/2020 20:45:35 - INFO - __main__ -     eval_precision = 0.8032166508987701\n",
    "# 11/06/2020 20:45:35 - INFO - __main__ -     eval_recall = 0.884375\n",
    "# 11/06/2020 20:45:35 - INFO - __main__ -     eval_f1 = 0.8418443232523549"
   ]
  },
  {
   "cell_type": "code",
   "execution_count": 6,
   "metadata": {
    "colab": {
     "base_uri": "https://localhost:8080/"
    },
    "id": "Ep915E19af5l",
    "outputId": "c2f12d38-68bc-4b78-bb8c-59d9f4bff950"
   },
   "outputs": [
    {
     "name": "stdout",
     "output_type": "stream",
     "text": [
      "Thu Nov 12 22:15:55 2020       \r\n",
      "+-----------------------------------------------------------------------------+\r\n",
      "| NVIDIA-SMI 435.21       Driver Version: 435.21       CUDA Version: 10.1     |\r\n",
      "|-------------------------------+----------------------+----------------------+\r\n",
      "| GPU  Name        Persistence-M| Bus-Id        Disp.A | Volatile Uncorr. ECC |\r\n",
      "| Fan  Temp  Perf  Pwr:Usage/Cap|         Memory-Usage | GPU-Util  Compute M. |\r\n",
      "|===============================+======================+======================|\r\n",
      "|   0  GeForce RTX 208...  Off  | 00000000:01:00.0  On |                  N/A |\r\n",
      "| 37%   63C    P0    71W / 260W |    195MiB / 11018MiB |      0%      Default |\r\n",
      "+-------------------------------+----------------------+----------------------+\r\n",
      "|   1  GeForce RTX 208...  Off  | 00000000:05:00.0 Off |                  N/A |\r\n",
      "| 66%   79C    P2   256W / 260W |  10910MiB / 11019MiB |     99%      Default |\r\n",
      "+-------------------------------+----------------------+----------------------+\r\n",
      "                                                                               \r\n",
      "+-----------------------------------------------------------------------------+\r\n",
      "| Processes:                                                       GPU Memory |\r\n",
      "|  GPU       PID   Type   Process name                             Usage      |\r\n",
      "|=============================================================================|\r\n",
      "|    0      1280      G   /usr/lib/xorg/Xorg                            65MiB |\r\n",
      "|    0      1428      G   /usr/bin/gnome-shell                          99MiB |\r\n",
      "|    0      1845      G   /opt/teamviewer/tv_bin/TeamViewer             17MiB |\r\n",
      "|    1     28158      C   python                                     10899MiB |\r\n",
      "+-----------------------------------------------------------------------------+\r\n"
     ]
    }
   ],
   "source": [
    "!nvidia-smi"
   ]
  },
  {
   "cell_type": "code",
   "execution_count": null,
   "metadata": {
    "colab": {
     "base_uri": "https://localhost:8080/",
     "height": 129
    },
    "id": "z2Oz4I_qRB3v",
    "outputId": "79ce3bed-43e9-4ad9-f63c-0467560223f3"
   },
   "outputs": [],
   "source": [
    "Seq length 256 distilbert-base-uncased"
   ]
  },
  {
   "cell_type": "code",
   "execution_count": 10,
   "metadata": {
    "id": "22_CaWfA_rs_"
   },
   "outputs": [
    {
     "data": {
      "text/plain": [
       "'10.2'"
      ]
     },
     "execution_count": 10,
     "metadata": {},
     "output_type": "execute_result"
    }
   ],
   "source": [
    "torch.version.cuda"
   ]
  },
  {
   "cell_type": "code",
   "execution_count": 24,
   "metadata": {},
   "outputs": [],
   "source": [
    "!export CUDA_VISIBLE_DEVICES=0"
   ]
  },
  {
   "cell_type": "code",
   "execution_count": null,
   "metadata": {},
   "outputs": [],
   "source": []
  }
 ],
 "metadata": {
  "accelerator": "GPU",
  "colab": {
   "collapsed_sections": [],
   "name": "Copy of Copy of NERTraining.ipynb",
   "provenance": []
  },
  "kernelspec": {
   "display_name": "Python 3",
   "language": "python",
   "name": "python3"
  },
  "language_info": {
   "codemirror_mode": {
    "name": "ipython",
    "version": 3
   },
   "file_extension": ".py",
   "mimetype": "text/x-python",
   "name": "python",
   "nbconvert_exporter": "python",
   "pygments_lexer": "ipython3",
   "version": "3.6.12"
  }
 },
 "nbformat": 4,
 "nbformat_minor": 1
}
